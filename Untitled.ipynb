{
 "cells": [
  {
   "cell_type": "code",
   "execution_count": 1,
   "id": "6421f8fa",
   "metadata": {},
   "outputs": [
    {
     "name": "stdout",
     "output_type": "stream",
     "text": [
      "        cid              key  \\\n",
      "0     01:01         Abhinav.   \n",
      "1     01:02       Ācāranirṇ.   \n",
      "2    01:02x            Ācār.   \n",
      "3     01:03          AdbhBr.   \n",
      "4     01:05          AgSaṃh.   \n",
      "..      ...              ...   \n",
      "861   93.41  Khaṇḍa-praśasti   \n",
      "862   93.42    Māghamāhātmya   \n",
      "863   93.43        Śivasūtra   \n",
      "864   93.44   R. (ed. Gorr.)   \n",
      "865   93.45    SkandaP. Rev.   \n",
      "\n",
      "                                                  data      type  \n",
      "0                                       Abhinava-gupta    Author  \n",
      "1                                         Ācāranirṇaya     Title  \n",
      "2                                         Ācāranirṇaya     Title  \n",
      "3                                     Adbhuta-brāhmaṇa     Title  \n",
      "4                                      Agastya-saṃhitā     Title  \n",
      "..                                                 ...       ...  \n",
      "861  Khaṇḍapraśasti, name of a poem attributed to H...     Title  \n",
      "862              name of a chapter in the Padma-purāṇa  subtitle  \n",
      "863  ŚivaSūtra, the first 14 Sūtras of Pāṇini's gra...  subtitle  \n",
      "864                        Rāmāyaṇa (Gorresio edition)     Title  \n",
      "865                            SkandaPurāṇa Revākhaṇḍa     Title  \n",
      "\n",
      "[866 rows x 4 columns]\n"
     ]
    }
   ],
   "source": [
    "import pandas as pd\n",
    "\n",
    "# Read the CSV file\n",
    "df = pd.read_csv('resources/mwsources.csv')\n",
    "\n",
    "# Now 'df' is a DataFrame containing the data from the CSV file\n",
    "print(df)"
   ]
  },
  {
   "cell_type": "code",
   "execution_count": 3,
   "id": "2065e278",
   "metadata": {},
   "outputs": [
    {
     "name": "stdout",
     "output_type": "stream",
     "text": [
      "10      1 Alaṃkārasarvasva, by Ruyyaka\n",
      "11    Alaṃkāraśekhara, by Keśava-miśra\n",
      "12                      Alaṃkāratilaka\n",
      "13     Alaṃkāravimarśinī, by Jayaratha\n",
      "14                        Amaru-śataka\n",
      "Name: data, dtype: object\n"
     ]
    }
   ],
   "source": [
    "print(df[\"data\"][10:15])"
   ]
  },
  {
   "cell_type": "code",
   "execution_count": null,
   "id": "9c71a8c2",
   "metadata": {},
   "outputs": [],
   "source": []
  }
 ],
 "metadata": {
  "kernelspec": {
   "display_name": "Python 3 (ipykernel)",
   "language": "python",
   "name": "python3"
  },
  "language_info": {
   "codemirror_mode": {
    "name": "ipython",
    "version": 3
   },
   "file_extension": ".py",
   "mimetype": "text/x-python",
   "name": "python",
   "nbconvert_exporter": "python",
   "pygments_lexer": "ipython3",
   "version": "3.11.5"
  }
 },
 "nbformat": 4,
 "nbformat_minor": 5
}
