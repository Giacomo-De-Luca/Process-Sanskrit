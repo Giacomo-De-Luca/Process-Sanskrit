{
 "cells": [
  {
   "cell_type": "code",
   "execution_count": 1,
   "metadata": {},
   "outputs": [
    {
     "name": "stderr",
     "output_type": "stream",
     "text": [
      "WARNING:root:gensim and/or sentencepiece not found. Lexical scoring will be disabled\n",
      "To enable scoring please install gensim and sentencepiece\n",
      "/Users/jack/anaconda3/lib/python3.11/site-packages/sanskrit_util/schema.py:545: SAWarning: Mapper[AbstractNominal(nominal)] does not indicate a 'polymorphic_identity', yet is part of an inheritance hierarchy that has a 'polymorphic_on' column of 'form.pos_id'. If this is an intermediary class that should not be instantiated, the class may either be left unmapped, or may include the 'polymorphic_abstract=True' parameter in its Mapper arguments. To leave the class unmapped when using Declarative, set the '__abstract__ = True' attribute on the class.\n",
      "  class AbstractNominal(Form):\n"
     ]
    },
    {
     "name": "stdout",
     "output_type": "stream",
     "text": [
      "Successfully imported process_sanskrit version: 1.0.0\n",
      "Transliteration test: 'patanjali' → 'patanjali'\n"
     ]
    }
   ],
   "source": [
    "import process_sanskrit\n",
    "print(f\"Successfully imported process_sanskrit version: {process_sanskrit.__version__}\")\n",
    "\n",
    "# Try a simple function\n",
    "test_text = \"patanjali\"\n",
    "result = process_sanskrit.transliterate(test_text, \"IAST\")\n",
    "print(f\"Transliteration test: '{test_text}' → '{result}'\")"
   ]
  },
  {
   "cell_type": "code",
   "execution_count": 4,
   "metadata": {},
   "outputs": [
    {
     "ename": "TypeError",
     "evalue": "unhashable type: 'set'",
     "output_type": "error",
     "traceback": [
      "\u001b[0;31m---------------------------------------------------------------------------\u001b[0m",
      "\u001b[0;31mTypeError\u001b[0m                                 Traceback (most recent call last)",
      "Cell \u001b[0;32mIn[4], line 1\u001b[0m\n\u001b[0;32m----> 1\u001b[0m result \u001b[38;5;241m=\u001b[39m process_sanskrit\u001b[38;5;241m.\u001b[39mprocess(\u001b[38;5;124m\"\u001b[39m\u001b[38;5;124myogasutra\u001b[39m\u001b[38;5;124m\"\u001b[39m)\n\u001b[1;32m      2\u001b[0m \u001b[38;5;28mprint\u001b[39m(result)\n",
      "File \u001b[0;32m~/Documents/GitHub/Process-Sanskrit/process_sanskrit/functions/process.py:270\u001b[0m, in \u001b[0;36mprocess\u001b[0;34m(text, max_length, debug, mode, count_types, *dict_names)\u001b[0m\n\u001b[1;32m    268\u001b[0m \u001b[38;5;28;01mif\u001b[39;00m debug \u001b[38;5;241m==\u001b[39m \u001b[38;5;28;01mTrue\u001b[39;00m:\n\u001b[1;32m    269\u001b[0m     \u001b[38;5;28mprint\u001b[39m(\u001b[38;5;124m\"\u001b[39m\u001b[38;5;124msplitted_text\u001b[39m\u001b[38;5;124m\"\u001b[39m, splitted_text)\n\u001b[0;32m--> 270\u001b[0m inflections \u001b[38;5;241m=\u001b[39m inflect(splitted_text) \n\u001b[1;32m    271\u001b[0m inflections_vocabulary \u001b[38;5;241m=\u001b[39m get_voc_entry(inflections, \u001b[38;5;241m*\u001b[39mdict_names)\n\u001b[1;32m    272\u001b[0m inflections_vocabulary \u001b[38;5;241m=\u001b[39m [entry \u001b[38;5;28;01mfor\u001b[39;00m entry \u001b[38;5;129;01min\u001b[39;00m inflections_vocabulary \u001b[38;5;28;01mif\u001b[39;00m \u001b[38;5;28mlen\u001b[39m(entry[\u001b[38;5;241m0\u001b[39m]) \u001b[38;5;241m>\u001b[39m \u001b[38;5;241m1\u001b[39m]\n",
      "File \u001b[0;32m~/Documents/GitHub/Process-Sanskrit/process_sanskrit/functions/inflect.py:65\u001b[0m, in \u001b[0;36minflect\u001b[0;34m(splitted_text, debug)\u001b[0m\n\u001b[1;32m     63\u001b[0m \u001b[38;5;28;01mif\u001b[39;00m debug \u001b[38;5;241m==\u001b[39m \u001b[38;5;28;01mTrue\u001b[39;00m:\n\u001b[1;32m     64\u001b[0m     start_time \u001b[38;5;241m=\u001b[39m time\u001b[38;5;241m.\u001b[39mtime()\n\u001b[0;32m---> 65\u001b[0m rooted \u001b[38;5;241m=\u001b[39m root_any_word(word)\n\u001b[1;32m     66\u001b[0m \u001b[38;5;28;01mif\u001b[39;00m debug \u001b[38;5;241m==\u001b[39m \u001b[38;5;28;01mTrue\u001b[39;00m:\n\u001b[1;32m     67\u001b[0m     \u001b[38;5;28mprint\u001b[39m(\u001b[38;5;124mf\u001b[39m\u001b[38;5;124m\"\u001b[39m\u001b[38;5;124mroot_any_word(\u001b[39m\u001b[38;5;132;01m{\u001b[39;00mword\u001b[38;5;132;01m}\u001b[39;00m\u001b[38;5;124m) took \u001b[39m\u001b[38;5;132;01m{\u001b[39;00mtime\u001b[38;5;241m.\u001b[39mtime()\u001b[38;5;250m \u001b[39m\u001b[38;5;241m-\u001b[39m\u001b[38;5;250m \u001b[39mstart_time\u001b[38;5;132;01m:\u001b[39;00m\u001b[38;5;124m.6f\u001b[39m\u001b[38;5;132;01m}\u001b[39;00m\u001b[38;5;124m seconds\u001b[39m\u001b[38;5;124m\"\u001b[39m)\n",
      "File \u001b[0;32m~/Documents/GitHub/Process-Sanskrit/process_sanskrit/functions/rootAnyWord.py:163\u001b[0m, in \u001b[0;36mroot_any_word\u001b[0;34m(word, attempted_words, timed)\u001b[0m\n\u001b[1;32m    161\u001b[0m     start_time \u001b[38;5;241m=\u001b[39m time\u001b[38;5;241m.\u001b[39mtime()\n\u001b[1;32m    162\u001b[0m \u001b[38;5;28;01mif\u001b[39;00m tentative \u001b[38;5;129;01mnot\u001b[39;00m \u001b[38;5;129;01min\u001b[39;00m attempted_words:\n\u001b[0;32m--> 163\u001b[0m     attempt \u001b[38;5;241m=\u001b[39m root_any_word(tentative, attempted_words, timed)\n\u001b[1;32m    164\u001b[0m     \u001b[38;5;28;01mif\u001b[39;00m timed:\n\u001b[1;32m    165\u001b[0m         \u001b[38;5;28mprint\u001b[39m(\u001b[38;5;124mf\u001b[39m\u001b[38;5;124m\"\u001b[39m\u001b[38;5;124mroot_any_word(\u001b[39m\u001b[38;5;132;01m{\u001b[39;00mtentative\u001b[38;5;132;01m}\u001b[39;00m\u001b[38;5;124m) took \u001b[39m\u001b[38;5;132;01m{\u001b[39;00mtime\u001b[38;5;241m.\u001b[39mtime()\u001b[38;5;250m \u001b[39m\u001b[38;5;241m-\u001b[39m\u001b[38;5;250m \u001b[39mstart_time\u001b[38;5;132;01m:\u001b[39;00m\u001b[38;5;124m.6f\u001b[39m\u001b[38;5;132;01m}\u001b[39;00m\u001b[38;5;124m seconds\u001b[39m\u001b[38;5;124m\"\u001b[39m)\n",
      "\u001b[0;31mTypeError\u001b[0m: unhashable type: 'set'"
     ]
    }
   ],
   "source": [
    "result = process_sanskrit.process(\"yogasutra\")\n",
    "print(result)\n",
    "\n"
   ]
  }
 ],
 "metadata": {
  "kernelspec": {
   "display_name": "base",
   "language": "python",
   "name": "python3"
  },
  "language_info": {
   "codemirror_mode": {
    "name": "ipython",
    "version": 3
   },
   "file_extension": ".py",
   "mimetype": "text/x-python",
   "name": "python",
   "nbconvert_exporter": "python",
   "pygments_lexer": "ipython3",
   "version": "3.11.5"
  }
 },
 "nbformat": 4,
 "nbformat_minor": 2
}
